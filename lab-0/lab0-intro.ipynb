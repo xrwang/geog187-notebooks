{
 "cells": [
  {
   "cell_type": "markdown",
   "metadata": {},
   "source": [
    "# Welcome to Lab 0!\n",
    "\n",
    "In this lab, we'll:\n",
    "- Explore the jupyter notebook environment\n",
    "- Understand the different types of cells\n",
    "- Run a cell and edit some code\n",
    "- See some handy jupyter shortcuts"
   ]
  },
  {
   "cell_type": "markdown",
   "metadata": {},
   "source": [
    "## Important !\n",
    "**Always save your work in jupyter.** Either via `File`> `Save and Checkpoint` or `Command` + `S`\n",
    "**Jupyter cells need to run in sequence.** Running cells out of order (ie if you run a cell at the bottom of the page first) may cause code errors."
   ]
  },
  {
   "cell_type": "markdown",
   "metadata": {},
   "source": [
    "## Why do we use Jupyter?\n",
    "The main reason we are using Jupyter notebooks is that they offer interactivity with code, without forcing you to learn to code right away. You can run pre-written blocks of code, and then, over time, as you gain confidence, modify those blocks of code, enventually working up to writing whole new blocks of code.\n",
    "\n",
    "In addition, Jupyter offers a unified environment to work in, and the possibility of easy collaboration. "
   ]
  },
  {
   "cell_type": "markdown",
   "metadata": {},
   "source": [
    "### Code cells\n",
    "Instead of writing a long script for the computer to compile and run, jupyter has **cells** which allow you to run parts of your code, edit and fix your code quickly, and see results immediately from a cell.\n",
    "\n",
    "In Jupyter, a \"cell\" is each block of code or text.  You can easily edit each cell by double clicking on it, making any changes, and then go to `Cell` in the top menu, then click `Run Cells`\n",
    "\n",
    "Test this out. Double click _this_ cell, change the below text to say \"jupyter is an interactive coding environment\" and then run the cell. \n",
    "\n",
    "jupyter is a coding environment"
   ]
  },
  {
   "cell_type": "markdown",
   "metadata": {},
   "source": [
    "Now try running the previous cell again, but instead of clicking on `Cell` in the top menu, try running the cell using a keyboard shortcut: `Shift + Enter`"
   ]
  },
  {
   "cell_type": "markdown",
   "metadata": {},
   "source": [
    "### _Markdown_ cells and _R_ cells\n",
    "All cells in a notebook are code, but some (all the ones you have read so far included) are in a simple text format called Markdown, which enables you to enter nicely formatted text."
   ]
  },
  {
   "cell_type": "markdown",
   "metadata": {},
   "source": [
    "**This is a Markdown cell.**\n",
    "\n",
    "You can think of Markdown cells as text, where you can type freely. Markdown is not code, but there are little things you have to do in order to make things **bold** or *italic* or \n",
    "- bulleted \n",
    "- like \n",
    "- this\n",
    "\n",
    "Markdown is frequently used, and you might see files that have a `.md` ending to them. Those are markdown files. \n",
    "\n",
    "If you double click on this cell, can you see/guess how the word **bold** is made bold?"
   ]
  },
  {
   "cell_type": "markdown",
   "metadata": {},
   "source": [
    "Now try running the cell below. What happens?"
   ]
  },
  {
   "cell_type": "markdown",
   "metadata": {
    "collapsed": true
   },
   "source": [
    "This is my map. This is for assignment 1"
   ]
  },
  {
   "cell_type": "markdown",
   "metadata": {
    "collapsed": true
   },
   "source": [
    "To have a cell run as a Markdown cell, you need to tell the notebook that it is a Markdown cell. By default because this notebook is an R notebook, all new cells created are `code` cells and are interpreted by the notebook as R (a programming language) code.\n",
    "\n",
    "To turn a cell into a Markdown cell, go to `Cell` > `Cell Type` > `Markdown`.\n",
    "The shortcut to doing this is hitting `Esc` to enter command mode, and typing `m`.\n",
    "\n",
    "Try this for the above cell."
   ]
  },
  {
   "cell_type": "markdown",
   "metadata": {},
   "source": [
    "## Finally some R code"
   ]
  },
  {
   "cell_type": "markdown",
   "metadata": {},
   "source": [
    "OK, so nicely formatted text is all very well, but we could do that in a word processor, now we come to the real point of using a notebook, which is to run blocks of code. Below is an R code cell."
   ]
  },
  {
   "cell_type": "code",
   "execution_count": null,
   "metadata": {
    "collapsed": true
   },
   "outputs": [],
   "source": [
    "# Anything with a # in front of it is not executed by the computer, it's a comment\n",
    "\n",
    "# Let's first make a variable called a\n",
    "a <- 8"
   ]
  },
  {
   "cell_type": "markdown",
   "metadata": {},
   "source": [
    "The above cell set the value of a variable called `a` to be 8. We can check that the notebook remembers this by asking for the value of `a`"
   ]
  },
  {
   "cell_type": "code",
   "execution_count": null,
   "metadata": {
    "collapsed": true
   },
   "outputs": [],
   "source": [
    "a"
   ]
  },
  {
   "cell_type": "code",
   "execution_count": null,
   "metadata": {
    "collapsed": true
   },
   "outputs": [],
   "source": [
    "# Now let's make another variable called b\n",
    "b <- 10"
   ]
  },
  {
   "cell_type": "code",
   "execution_count": null,
   "metadata": {
    "collapsed": true
   },
   "outputs": [],
   "source": [
    "# What's a + b?\n",
    "\n",
    "a + b"
   ]
  },
  {
   "cell_type": "markdown",
   "metadata": {
    "collapsed": true
   },
   "source": [
    "We can perform other arithmetic functions easily in R. For example, according to the R documents, we can do multiplication using `x * y`. Add a cell below and try mutiplying variables a and b"
   ]
  },
  {
   "cell_type": "code",
   "execution_count": null,
   "metadata": {
    "collapsed": true
   },
   "outputs": [],
   "source": [
    "# An important thing to note is that variables are \"global\", that is, \n",
    "# their values are carried over from one cell to another. For example:\n",
    "\n",
    "d <- a+b"
   ]
  },
  {
   "cell_type": "code",
   "execution_count": null,
   "metadata": {
    "collapsed": true
   },
   "outputs": [],
   "source": [
    "d + b \n",
    "#Should be 28"
   ]
  },
  {
   "cell_type": "markdown",
   "metadata": {},
   "source": [
    "## Some quick map plotting"
   ]
  },
  {
   "cell_type": "markdown",
   "metadata": {},
   "source": [
    "Let's try reading a simple shape file. For those who haven't run into shape files before they are a popular file format for storing geographical data. First, we need to import an R package that will help us do that. \n",
    "\n",
    "You can think of R packages as bundles of commands that enable us to do particular specialized things. They aren't part of the basic functionality of R because including commands for all the things that you might want to do in R would make it a very large and unwieldy platform."
   ]
  },
  {
   "cell_type": "code",
   "execution_count": null,
   "metadata": {
    "collapsed": true
   },
   "outputs": [],
   "source": [
    "library(rgdal)"
   ]
  },
  {
   "cell_type": "code",
   "execution_count": null,
   "metadata": {
    "collapsed": true
   },
   "outputs": [],
   "source": [
    "auckland <- readOGR(\"data/tb_0006_bycau06.shp\")"
   ]
  },
  {
   "cell_type": "markdown",
   "metadata": {},
   "source": [
    "The result tells us that we successfully read a file that contains 103 features (i.e. geographical things), and that each of those features has 19 'fields' of information associated with it.\n",
    "\n",
    "We can see a list of the field names using the `names` function."
   ]
  },
  {
   "cell_type": "code",
   "execution_count": null,
   "metadata": {
    "collapsed": true
   },
   "outputs": [],
   "source": [
    "names(auckland)"
   ]
  },
  {
   "cell_type": "markdown",
   "metadata": {},
   "source": [
    "We can see the first 5 rows of the data table with the `head` command."
   ]
  },
  {
   "cell_type": "code",
   "execution_count": null,
   "metadata": {
    "collapsed": true
   },
   "outputs": [],
   "source": [
    "head(auckland)"
   ]
  },
  {
   "cell_type": "markdown",
   "metadata": {},
   "source": [
    "Or, we can see the data nicely formatted by viewing it as a `data.frame`."
   ]
  },
  {
   "cell_type": "code",
   "execution_count": null,
   "metadata": {
    "collapsed": true
   },
   "outputs": [],
   "source": [
    "#Here's the expanded view\n",
    "auckland_df <- data.frame(auckland)\n",
    "auckland_df"
   ]
  },
  {
   "cell_type": "markdown",
   "metadata": {},
   "source": [
    "We can use the plot function to plot the data, and, since these data are geographical, we will get a map."
   ]
  },
  {
   "cell_type": "code",
   "execution_count": null,
   "metadata": {
    "collapsed": true
   },
   "outputs": [],
   "source": [
    "plot(auckland, col='grey', lwd=0.25)"
   ]
  },
  {
   "cell_type": "markdown",
   "metadata": {},
   "source": [
    "Note how we specify a color for the regions (`col='grey'`) and a line width (`lwd=0.25`). You don't have to specify these, or you can change them. Try modifying the code and making a different map."
   ]
  },
  {
   "cell_type": "markdown",
   "metadata": {},
   "source": [
    "# Chloropleth maps"
   ]
  },
  {
   "cell_type": "markdown",
   "metadata": {},
   "source": [
    "We can also make simple chloropleth maps using plot. There's column in our data called `TB_RATE`, or tuberculosis rate, so let's make a simple chloropleth map of that. Choropleth maps are those where regions are colored according to underlying data values (think of the election results maps from 2016).\n",
    "\n",
    "## Exploring the data\n",
    "Since choropleth maps are maps of data, it is worth first familiarizing ourselves with the data in question, independent of the geography."
   ]
  },
  {
   "cell_type": "markdown",
   "metadata": {},
   "source": [
    "Since we are concerned with the `TB_RATE` variable, let's see what it looks like in terms of the distribution across the 103 areas in the map."
   ]
  },
  {
   "cell_type": "code",
   "execution_count": null,
   "metadata": {
    "collapsed": true
   },
   "outputs": [],
   "source": [
    "summary(auckland$TB_RATE)"
   ]
  },
  {
   "cell_type": "markdown",
   "metadata": {},
   "source": [
    "\n",
    "\n",
    "**Question**:\n",
    "\n",
    "- What's the lowest TB_RATE?\n",
    "- What's the highest TB_RATE?"
   ]
  },
  {
   "cell_type": "markdown",
   "metadata": {},
   "source": [
    "From this result, you can see that the date are skewed, with only a small number of higher values, since the median is 88, meaning that half the rates are that level or lower. More visually, we can make a histogram:"
   ]
  },
  {
   "cell_type": "code",
   "execution_count": null,
   "metadata": {
    "collapsed": true
   },
   "outputs": [],
   "source": [
    "hist(auckland$TB_RATE)"
   ]
  },
  {
   "cell_type": "markdown",
   "metadata": {},
   "source": [
    "It gets tedious typing `auckland$TB_RATE`, so we can use the `attach` command to save us the trouble, and view the same data a different way."
   ]
  },
  {
   "cell_type": "code",
   "execution_count": null,
   "metadata": {
    "collapsed": true
   },
   "outputs": [],
   "source": [
    "attach(auckland_df)\n",
    "boxplot(TB_RATE)"
   ]
  },
  {
   "cell_type": "markdown",
   "metadata": {},
   "source": [
    "## Mapping the data\n",
    "First, we will load a couple of libraries useful for this purpose. `RColorBrewer` gives us access to nice color schemes from [ColorBrewer](http://colorbrewer.org) and `classInt` helps with partitioning data into classes (or intervals or categories) using a number of popular methods."
   ]
  },
  {
   "cell_type": "code",
   "execution_count": null,
   "metadata": {
    "collapsed": true
   },
   "outputs": [],
   "source": [
    "library(RColorBrewer)\n",
    "library(classInt)"
   ]
  },
  {
   "cell_type": "markdown",
   "metadata": {},
   "source": [
    "### Colors and classes\n",
    "We'll make a map with four shades of green. To do this, first we need a color palette."
   ]
  },
  {
   "cell_type": "code",
   "execution_count": null,
   "metadata": {
    "collapsed": true
   },
   "outputs": [],
   "source": [
    "n <- 4\n",
    "palette <- brewer.pal(n, \"Greens\")\n",
    "palette"
   ]
  },
  {
   "cell_type": "markdown",
   "metadata": {},
   "source": [
    "If you have done any graphical work you might recognize those numbers as a series of RGB color codes. If not, don't worry about it. The important thing is that the `RColorBrewer` command `brewer.pal` allows us to make nice sets of colors according to specifications as described in the [detailed documentation](https://www.rdocumentation.org/packages/RColorBrewer/versions/1.1-2/topics/RColorBrewer).\n",
    "\n",
    "Note how we have put the number of colors in a variable `n` which will make it easier to change the code to make different maps later.\n",
    "\n",
    "To accompany these colors we need a way to assign data to different classes, which will be colored differently. This is what the `classIntervals` function (from the `classInt` package) provides."
   ]
  },
  {
   "cell_type": "code",
   "execution_count": null,
   "metadata": {
    "collapsed": true
   },
   "outputs": [],
   "source": [
    "classes <- classIntervals(TB_RATE, n, style=\"equal\")\n",
    "classes"
   ]
  },
  {
   "cell_type": "markdown",
   "metadata": {},
   "source": [
    "The resulting table shows us that classes consists of 4 classes, with data ranges 0-112.5, 112.5-225, 225-337.5 and 337.5-450. The list of numbers below is how many of the 103 areas will be assigned to each class when we make a map using these classes.  It is no coincidence that each of these data ranges is the same size (112.5 units), because we specified `style=\"equal\"` when we called `classIntervals`. Other **classification schemes** are possible, as described in the [documentation for `classInt`](https://www.rdocumentation.org/packages/classInt/versions/0.1-24)."
   ]
  },
  {
   "cell_type": "markdown",
   "metadata": {},
   "source": [
    "### Putting it all together in a map\n",
    "To make a map, we will want to call the `plot` function on the `auckland` dataset, but this time specify a list of colors for the regions. We use another function from the `classInt` package to do this:"
   ]
  },
  {
   "cell_type": "code",
   "execution_count": null,
   "metadata": {
    "collapsed": true
   },
   "outputs": [],
   "source": [
    "colors <- findColours(classes, palette)\n",
    "colors"
   ]
  },
  {
   "cell_type": "markdown",
   "metadata": {},
   "source": [
    "And we are ready to make a map."
   ]
  },
  {
   "cell_type": "code",
   "execution_count": null,
   "metadata": {
    "collapsed": true
   },
   "outputs": [],
   "source": [
    "plot(auckland, col=colors)"
   ]
  },
  {
   "cell_type": "markdown",
   "metadata": {},
   "source": [
    "A map like this is not much use without a title and a legend to tell us what we are looking at, so a more complete recipe is below."
   ]
  },
  {
   "cell_type": "code",
   "execution_count": null,
   "metadata": {
    "collapsed": true
   },
   "outputs": [],
   "source": [
    "plot(auckland, col=colors)\n",
    "title(main=\"TB Rates in Auckland, per 100,000 population\")\n",
    "legend('topleft', legend=names(attr(colors, \"table\")),\n",
    "    fill=attr(colors, \"palette\"), cex=0.8, bty=\"n\")"
   ]
  },
  {
   "cell_type": "markdown",
   "metadata": {},
   "source": [
    "## Explore some more\n",
    "The above sequence of cells (starting from **Colors and classes**) is worth spending some time with. Experiment with what happens when you change `n` (the number of classes), the color palette, or the classification `style`. To do this, keep in mind that you will need to run the series of cells in order from the one where `n` and the color paletter are defined on down."
   ]
  },
  {
   "cell_type": "markdown",
   "metadata": {},
   "source": [
    "## The power of programming\n",
    "In case you are interested, in the next cell, we put all the operations required to make a map into a single function, which makes it easier to to make different maps. It is not necessary for you to understand everything going on here. Think of it as furthering your appreciation of what you can do in a mapping environment that is 'driven' using code."
   ]
  },
  {
   "cell_type": "code",
   "execution_count": null,
   "metadata": {
    "collapsed": true
   },
   "outputs": [],
   "source": [
    "## Definition of a function to automate a series of commands and make a choropleth map\n",
    "choro <- function(sf, varname, nclasses=5, pal='Reds', sty='equal', ttl='') {\n",
    "    palette <- brewer.pal(nclasses, pal)\n",
    "    classes <- classIntervals(sf[[varname]], nclasses, style=sty)\n",
    "    colors <- findColours(classes, palette)\n",
    "    plot(sf, col=colors, lwd=0.35)\n",
    "    legend('top', ncol=3, legend=names(attr(colors, 'table')), fill=attr(colors, 'palette'), cex=0.8, bty='n')\n",
    "    title(ttl)\n",
    "}"
   ]
  },
  {
   "cell_type": "markdown",
   "metadata": {},
   "source": [
    "With the `choro` function defined it becomes easier to make a variety of different maps. Experiment by changing the cell below."
   ]
  },
  {
   "cell_type": "code",
   "execution_count": null,
   "metadata": {
    "collapsed": true
   },
   "outputs": [],
   "source": [
    "choro(auckland, 'TB_RATE', pal='YlOrRd', nclasses=5, sty='quantile', ttl='Auckland, TB rates, per 100,000')"
   ]
  },
  {
   "cell_type": "markdown",
   "metadata": {},
   "source": [
    "### Keyboard shortcuts in jupyter"
   ]
  },
  {
   "cell_type": "markdown",
   "metadata": {},
   "source": [
    "Keyboard shortcuts in jupyter are helpful so that you don't have to click on the top menu all the time. A short list of helpful keyboard shortcuts are located here:\n",
    "\n",
    "http://maxmelnick.com/2016/04/19/python-beginner-tips-and-tricks.html"
   ]
  },
  {
   "cell_type": "markdown",
   "metadata": {},
   "source": [
    "Some of the most helpful ones for us will be in `Command` Mode. You can tell when a cell is in command mode by the vertical color bar on the side of the cell -- it will be blue when it's in command mode."
   ]
  },
  {
   "cell_type": "markdown",
   "metadata": {},
   "source": [
    "- `shift` + `enter` run cell, select below\n",
    "- `ctrl` + `enter` run cell\n",
    "- `option` + `enter` run cell, insert below\n",
    "- `d` , `d` delete selected cell\n",
    "- the `?` before a function will give you helpful information about it"
   ]
  },
  {
   "cell_type": "code",
   "execution_count": null,
   "metadata": {
    "collapsed": true
   },
   "outputs": [],
   "source": [
    "#Try running this cell. \n",
    "?plot"
   ]
  },
  {
   "cell_type": "markdown",
   "metadata": {},
   "source": [
    "**Question**:\n",
    "- What's the `Usage` of plot?"
   ]
  },
  {
   "cell_type": "markdown",
   "metadata": {},
   "source": [
    "**Try deleting this cell using the `d`,`d` shortcut!**"
   ]
  }
 ],
 "metadata": {
  "kernelspec": {
   "display_name": "R",
   "language": "R",
   "name": "ir"
  },
  "language_info": {
   "codemirror_mode": "r",
   "file_extension": ".r",
   "mimetype": "text/x-r-source",
   "name": "R",
   "pygments_lexer": "r",
   "version": "3.4.2"
  }
 },
 "nbformat": 4,
 "nbformat_minor": 2
}
