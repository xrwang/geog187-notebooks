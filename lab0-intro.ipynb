{
 "cells": [
  {
   "cell_type": "markdown",
   "metadata": {},
   "source": [
    "## Welcome to lab 0!"
   ]
  },
  {
   "cell_type": "markdown",
   "metadata": {},
   "source": [
    "In this lab, we'll:\n",
    "- Explore the jupyter notebook environment\n",
    "- Understand the different types of cells\n",
    "- Run a cell and edit some code\n",
    "- See some handy jupyter shortcuts"
   ]
  },
  {
   "cell_type": "markdown",
   "metadata": {},
   "source": [
    "### Why do we use jupyter?\n",
    "\n",
    "There's lots of reasons, but jupyter notebooks offer interactivity with code, a unified environment to work in, and the possibility of easy collaboration. Instead of writing a long script for the computer to compile and run, jupyter has **cells** which allow you to run parts of your code, edit and fix your code quickly, and see results immediately from a cell."
   ]
  },
  {
   "cell_type": "markdown",
   "metadata": {},
   "source": [
    "In jupyter, a \"cell\" is each block of code or text. \n",
    "\n",
    "You can easily edit each cell by double click on it, and then go to `Cell` in the top menu, then click `Run Cells`"
   ]
  },
  {
   "cell_type": "markdown",
   "metadata": {},
   "source": [
    "Test this out. Please double click this cell, change the below text to say \"jupyter is an interactive coding environment\"\n",
    "and then run the cell. This time, instead of clicking on `Cell` in the top menu, try running the cell using a keyboard shortcut: `Shift + Enter`\n",
    "\n",
    "jupyter is a coding environment"
   ]
  },
  {
   "cell_type": "markdown",
   "metadata": {},
   "source": [
    "**This is a Markdown cell.**\n",
    "\n",
    "You can think of Markdown cells as text, where you can type freely. Markdown is not code, but there are little things you have to do in order to make things **bold** or *italic* or \n",
    "- bulleted \n",
    "- like \n",
    "- this\n",
    "\n",
    "Markdown is frequently used, and you might see files that have a `.md` ending to them. Those are markdown files. \n",
    "\n",
    "If you double click on this cell, can you see/guess how the word **bold** is made bold?"
   ]
  },
  {
   "cell_type": "markdown",
   "metadata": {},
   "source": [
    "Now try running the cell below. What happens?"
   ]
  },
  {
   "cell_type": "code",
   "execution_count": null,
   "metadata": {
    "collapsed": true
   },
   "outputs": [],
   "source": [
    "This is my map. This is for assignment 1"
   ]
  },
  {
   "cell_type": "markdown",
   "metadata": {
    "collapsed": true
   },
   "source": [
    "To have a cell run as a Markdown cell, you need to change it to the Markdown cell type. By default all new cells created are `code` cells in R.\n",
    "\n",
    "To turn a cell into a Markdown cell, go to `Cell` > `Cell Type` > `Markdown`.\n",
    "The shortcut to doing this is hitting `Esc` to enter command mode, and typing `m`.\n",
    "\n",
    "Try this for the above cell."
   ]
  },
  {
   "cell_type": "code",
   "execution_count": 4,
   "metadata": {
    "collapsed": true
   },
   "outputs": [],
   "source": [
    "# This is an R code cell. \n",
    "# Anything with a # in front of it is not executed by the computer, it's a comment\n",
    "\n",
    "# Let's first make a variable called a\n",
    "a <- 8"
   ]
  },
  {
   "cell_type": "code",
   "execution_count": 6,
   "metadata": {},
   "outputs": [],
   "source": [
    "# Now let's make a variable called b\n",
    "b <- 10"
   ]
  },
  {
   "cell_type": "code",
   "execution_count": 9,
   "metadata": {},
   "outputs": [
    {
     "data": {
      "text/html": [
       "18"
      ],
      "text/latex": [
       "18"
      ],
      "text/markdown": [
       "18"
      ],
      "text/plain": [
       "[1] 18"
      ]
     },
     "metadata": {},
     "output_type": "display_data"
    }
   ],
   "source": [
    "# What's a + b?\n",
    "\n",
    "a + b"
   ]
  },
  {
   "cell_type": "code",
   "execution_count": 13,
   "metadata": {},
   "outputs": [],
   "source": [
    "# We can perform other arithmetic functions easily in R. \n",
    "# For example, according to the R documents, we can do multiplication using x * y. \n",
    "# Add a cell below and try mutiplying variables a and b"
   ]
  },
  {
   "cell_type": "code",
   "execution_count": null,
   "metadata": {
    "collapsed": true
   },
   "outputs": [],
   "source": []
  }
 ],
 "metadata": {
  "kernelspec": {
   "display_name": "R",
   "language": "R",
   "name": "ir"
  },
  "language_info": {
   "codemirror_mode": "r",
   "file_extension": ".r",
   "mimetype": "text/x-r-source",
   "name": "R",
   "pygments_lexer": "r",
   "version": "3.4.2"
  }
 },
 "nbformat": 4,
 "nbformat_minor": 2
}
