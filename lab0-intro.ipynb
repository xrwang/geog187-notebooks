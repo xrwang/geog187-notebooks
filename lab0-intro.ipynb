{
 "cells": [
  {
   "cell_type": "markdown",
   "metadata": {},
   "source": [
    "## Welcome to lab 0!"
   ]
  },
  {
   "cell_type": "markdown",
   "metadata": {},
   "source": [
    "In this lab, we'll:\n",
    "- Explore the jupyter notebook environment\n",
    "- Understand the different types of cells\n",
    "- Run a cell and edit some code\n",
    "- See some handy jupyter shortcuts"
   ]
  },
  {
   "cell_type": "markdown",
   "metadata": {},
   "source": [
    "### Why do we use jupyter?\n",
    "\n",
    "There's lots of reasons, but jupyter notebooks offer interactivity with code, a unified environment to work in, and the possibility of easy collaboration. Instead of writing a long script for the computer to compile and run, jupyter has **cells** which allow you to run parts of your code, edit and fix your code quickly, and see results immediately from a cell."
   ]
  },
  {
   "cell_type": "markdown",
   "metadata": {},
   "source": [
    "In jupyter, a \"cell\" is each block of code or text. \n",
    "\n",
    "You can easily edit each cell by double click on it, and then go to `Cell` in the top menu, then click `Run Cells`"
   ]
  },
  {
   "cell_type": "markdown",
   "metadata": {},
   "source": [
    "Test this out. Please double click this cell, change the below text to say \"jupyter is an interactive coding environment\"\n",
    "and then run the cell. This time, instead of clicking on `Cell` in the top menu, try running the cell using a keyboard shortcut: `Shift + Enter`\n",
    "\n",
    "jupyter is a coding environment"
   ]
  },
  {
   "cell_type": "markdown",
   "metadata": {},
   "source": [
    "**This is a Markdown cell.**\n",
    "\n",
    "You can think of markdown cells as text, where you can type freely. Markdown is not code, but there are little things you have to do in order to make things **bold** or *italic* or \n",
    "- bulleted \n",
    "- like \n",
    "- this\n",
    "\n",
    "Markdown is frequently used, and you might see files that have a `.md` ending to them. Those are markdown files. \n",
    "\n",
    "If you double click on this cell, can you see/guess how the word **bold** is made bold?"
   ]
  },
  {
   "cell_type": "markdown",
   "metadata": {},
   "source": [
    "Now try running the cell below. What happens?"
   ]
  },
  {
   "cell_type": "code",
   "execution_count": null,
   "metadata": {},
   "outputs": [],
   "source": [
    "This is my map. This is for assignment 1"
   ]
  },
  {
   "cell_type": "code",
   "execution_count": null,
   "metadata": {
    "collapsed": true
   },
   "outputs": [],
   "source": []
  },
  {
   "cell_type": "code",
   "execution_count": 8,
   "metadata": {
    "collapsed": true
   },
   "outputs": [],
   "source": [
    "# This is an R code cell"
   ]
  },
  {
   "cell_type": "code",
   "execution_count": 6,
   "metadata": {},
   "outputs": [
    {
     "data": {
      "text/html": [
       "<ol class=list-inline>\n",
       "\t<li>1</li>\n",
       "\t<li>2</li>\n",
       "\t<li>3</li>\n",
       "\t<li>4</li>\n",
       "</ol>\n"
      ],
      "text/latex": [
       "\\begin{enumerate*}\n",
       "\\item 1\n",
       "\\item 2\n",
       "\\item 3\n",
       "\\item 4\n",
       "\\end{enumerate*}\n"
      ],
      "text/markdown": [
       "1. 1\n",
       "2. 2\n",
       "3. 3\n",
       "4. 4\n",
       "\n",
       "\n"
      ],
      "text/plain": [
       "[1] 1 2 3 4"
      ]
     },
     "metadata": {},
     "output_type": "display_data"
    }
   ],
   "source": [
    "a <- c(1,2,3,4)"
   ]
  }
 ],
 "metadata": {
  "kernelspec": {
   "display_name": "R",
   "language": "R",
   "name": "ir"
  },
  "language_info": {
   "codemirror_mode": "r",
   "file_extension": ".r",
   "mimetype": "text/x-r-source",
   "name": "R",
   "pygments_lexer": "r",
   "version": "3.4.2"
  }
 },
 "nbformat": 4,
 "nbformat_minor": 2
}
