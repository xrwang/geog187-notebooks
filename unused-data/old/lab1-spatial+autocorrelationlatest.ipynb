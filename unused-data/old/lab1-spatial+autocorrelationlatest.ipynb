{
 "cells": [
  {
   "cell_type": "markdown",
   "metadata": {},
   "source": [
    "# Lab 1 : Spatial Autocorrelation"
   ]
  },
  {
   "cell_type": "code",
   "execution_count": null,
   "metadata": {
    "collapsed": true
   },
   "outputs": [],
   "source": [
    "# We import our libraries here\n",
    "library(spdep)\n",
    "library(classInt)\n",
    "library(rgdal)\n",
    "library(RColorBrewer)\n",
    "# library(ggplot2)\n",
    "# library(dplyr)\n",
    "# library(broom)\n",
    "# library(sf)"
   ]
  },
  {
   "cell_type": "markdown",
   "metadata": {},
   "source": [
    "## Read in the data and take a look at it"
   ]
  },
  {
   "cell_type": "markdown",
   "metadata": {},
   "source": [
    "Read the shape file from the data directory"
   ]
  },
  {
   "cell_type": "code",
   "execution_count": null,
   "metadata": {
    "collapsed": true
   },
   "outputs": [],
   "source": [
    "auck <- readOGR(\"data/ak-TB-ethnicity-0506.shp\", integer64=\"allow.loss\")"
   ]
  },
  {
   "cell_type": "code",
   "execution_count": null,
   "metadata": {
    "collapsed": true
   },
   "outputs": [],
   "source": [
    "# Let's see a summary of our spatial data\n",
    "summary(auck)"
   ]
  },
  {
   "cell_type": "code",
   "execution_count": null,
   "metadata": {
    "collapsed": true
   },
   "outputs": [],
   "source": [
    "names(auck)"
   ]
  },
  {
   "cell_type": "code",
   "execution_count": null,
   "metadata": {
    "collapsed": true
   },
   "outputs": [],
   "source": [
    "#The data frame -> row and header of data, in \"tabular\" format\n",
    "#let's make df the dataframe\n",
    "df <- data.frame(auck)\n",
    "head(df)"
   ]
  },
  {
   "cell_type": "markdown",
   "metadata": {},
   "source": [
    "## Exploring the data in maps\n",
    "\n",
    "As in the previous lab, we will make some choropleth maps to examine the various data of possible interest in this setting. To make this a bit less arduous, here is that simple choropleth mapping function from the previous notebook, which you can use to make maps of the different variables of interest. "
   ]
  },
  {
   "cell_type": "code",
   "execution_count": 1,
   "metadata": {
    "collapsed": true
   },
   "outputs": [],
   "source": [
    "## Definition of a function to automate a series of commands and make a choropleth map\n",
    "choro <- function(sf, varname, nclasses=5, pal='Reds', sty='equal', ttl=varname) {\n",
    "    palette <- brewer.pal(nclasses, pal)\n",
    "    classes <- classIntervals(sf[[varname]], nclasses, style=sty)\n",
    "    colors <- findColours(classes, palette)\n",
    "    plot(sf, col=colors, lwd=0.2)\n",
    "    legend('top', ncol=3, legend=names(attr(colors, 'table')), fill=attr(colors, 'palette'), cex=0.8, bty='n')\n",
    "    title(ttl)\n",
    "}"
   ]
  },
  {
   "cell_type": "markdown",
   "metadata": {},
   "source": [
    "Principally we want you to look at the tuberculosis rate (in cases per 100,000 population) `TB_RATE`,  and also at the different distributions of the various census-defined ethnic groups, NZ European `EUR_06`, Māori `MAO_06`, Pasifika `PAC_06`, Asian `ASI_06`, and Middle-eastern and Latin American (inccongruously combined in NZ census data, `MEL_06`), and 'Other' `OTH_06`. You need really only pay attention to the tuberculosis rate, and to the four major population groupings here, European, Māori, Pasifika, and Asian.\n",
    "\n",
    "Use the above function in the cell below, to map the tuberculosis rate.\n",
    "\n",
    "Don't forget that you have options for changing the map colors (`pal`), the number of classes (`nclasses`) and the classification method (`sty`) in this map and others you make."
   ]
  },
  {
   "cell_type": "code",
   "execution_count": null,
   "metadata": {
    "collapsed": true
   },
   "outputs": [],
   "source": [
    "# Put a line of code here to map the tuberculosis rate data"
   ]
  },
  {
   "cell_type": "markdown",
   "metadata": {},
   "source": [
    "Use the cell below to map all four of the major population groups. idea you might explore is to make all four of the ethnicity/race distribution maps in single display, by first issuing the `par(mfrow=c(2,2))` command, which will set up the display area for a 2 by 2 grid of maps. Then make four distinct maps."
   ]
  },
  {
   "cell_type": "code",
   "execution_count": null,
   "metadata": {
    "collapsed": true
   },
   "outputs": [],
   "source": [
    "# this line sets up the graphic display for a two by two array of plots\n",
    "# with narrower margins of 0.1 of the overall display area\n",
    "par(mfrow=c(2,2), mai=rep(0.1,4))\n",
    "# write a line of code to make a map\n",
    "# write a line to make another map\n",
    "# and another\n",
    "# and then a fourth one"
   ]
  },
  {
   "cell_type": "markdown",
   "metadata": {},
   "source": [
    "# Graphing the data"
   ]
  },
  {
   "cell_type": "code",
   "execution_count": null,
   "metadata": {
    "collapsed": true
   },
   "outputs": [],
   "source": [
    "hist(auck$ASI_P_06, labels=T)"
   ]
  },
  {
   "cell_type": "markdown",
   "metadata": {},
   "source": [
    "# Spatial autocorrelation"
   ]
  },
  {
   "cell_type": "code",
   "execution_count": null,
   "metadata": {
    "collapsed": true
   },
   "outputs": [],
   "source": [
    "# Generate the weight matrix\n",
    "# queen = False option means at least two boundary points must be \n",
    "# within the snap distance of each other\n",
    "# with the conventional name of a ‘rook’ relationship.\n",
    "# The snap option is the same as precision threshold in geoda\n",
    "\n",
    "nb <- poly2nb(auck, row.names=auck$FIRST_CAU_, queen=FALSE, snap=1e-05)\n",
    "length(nb)\n"
   ]
  },
  {
   "cell_type": "code",
   "execution_count": null,
   "metadata": {
    "collapsed": true
   },
   "outputs": [],
   "source": [
    "#example of the first polygon in w, numbers are the neighbors for the first polygon\n",
    "nb[1]\n",
    "auck$AU_NAME[1]\n",
    "\n",
    "#make a summary of w\n",
    "summary(nb)"
   ]
  },
  {
   "cell_type": "code",
   "execution_count": null,
   "metadata": {
    "collapsed": true
   },
   "outputs": [],
   "source": [
    "plot(auck, col='gray', border='white', lwd=0.35)\n",
    "xy <- coordinates(auck)\n",
    "plot(nb, xy, col='red', cex=0.35, lwd=0.5, add=TRUE)"
   ]
  },
  {
   "cell_type": "markdown",
   "metadata": {},
   "source": [
    "## Moran's *I* in equation form"
   ]
  },
  {
   "cell_type": "markdown",
   "metadata": {},
   "source": [
    "$I = \\frac{n}{\\sum_{i=1}^n (y_i - \\bar{y})^2} \\frac{\\sum_{i=1}^n \\sum_{j=1}^n w_{ij}(y_i - \\bar{y})(y_j - \\bar{y})}{\\sum_{i=1}^n \\sum_{j=1}^n w_{ij}}$"
   ]
  },
  {
   "cell_type": "code",
   "execution_count": null,
   "metadata": {
    "collapsed": true
   },
   "outputs": [],
   "source": [
    "# Let's first see what manual computation of Moran's I looks like\n",
    "\n",
    "#n is the number of observations (length of our dataset)\n",
    "# n <- length(auck)\n",
    "\n",
    "#we set y to the column of PC_ASIAN, then we get the mean.\n",
    "# y <- auck$PC_ASIAN\n",
    "# ybar <- mean(y)\n",
    "\n",
    "#find the difference between y and ybar(the mean)\n",
    "# dy <- y - ybar\n",
    "# yi <- rep(dy, each=n)\n",
    "# yj <- rep(dy)\n",
    "# yiyj <- yi * yj\n",
    "\n",
    "# pm <- matrix(yiyj, ncol=n)\n",
    "\n",
    "# pmw <- pm * wm\n",
    "\n",
    "# spmw <- sum(pmw)\n",
    "\n",
    "# smw <- sum(wm)\n",
    "# sw  <- spmw / smw\n",
    "# vr <- n / sum(dy^2)\n",
    "# MI <- vr * sw\n",
    "\n",
    "#Morans I\n",
    "# cat(\"Moran's I is\", MI)"
   ]
  },
  {
   "cell_type": "code",
   "execution_count": null,
   "metadata": {
    "collapsed": true
   },
   "outputs": [],
   "source": [
    "# let's make a weights object so that we \n",
    "# can use it with a less manual way of computing moran's i\n",
    "lw <- nb2listw(nb, style=\"W\", zero.policy=TRUE)\n",
    "print(lw, zero.policy=TRUE)"
   ]
  },
  {
   "cell_type": "code",
   "execution_count": null,
   "metadata": {
    "collapsed": true
   },
   "outputs": [],
   "source": [
    "summary(lw, zero.policy=TRUE)"
   ]
  },
  {
   "cell_type": "code",
   "execution_count": null,
   "metadata": {
    "collapsed": true
   },
   "outputs": [],
   "source": [
    "\n",
    "m_scatterplot <- function (sf, varname, listweights, ttl='', linecol='red') {\n",
    "    \n",
    "scaled_col <- paste('s', varname, sep='')\n",
    "lagged_col <- paste('lag', varname, sept='')\n",
    "    \n",
    "sf$scaled_col <- scale(sf[[varname]]) \n",
    "#sf$scaled_col_name\n",
    "    \n",
    "sf$lagged_col <- lag.listw(listweights, sf[[scaled_col]], zero.policy=TRUE)\n",
    "#sf$lagged_col\n",
    "\n",
    "plot(x=sf$scaled_col, y=sf$lagged_col, main=ttl)\n",
    "    \n",
    "abline(h=0, v=0)\n",
    "best_fit_line <- lm(sf$lagged_col ~ sf$scaled_col)\n",
    "abline(best_fit_line, lty=2, lwd=1, col=linecol)\n",
    "    \n",
    "# #Note that the slope of the regression line is nearly the same as Moran's I\n",
    "coefficients(best_fit_line)[2]\n",
    "    \n",
    "}"
   ]
  },
  {
   "cell_type": "code",
   "execution_count": null,
   "metadata": {
    "collapsed": true
   },
   "outputs": [],
   "source": [
    "#Call the function to make the plot\n",
    "m_scatterplot(auck, 'ASI_06', lw, ttl='Moran Scatterplot Percent Asian', linecol='red')\n"
   ]
  },
  {
   "cell_type": "code",
   "execution_count": null,
   "metadata": {
    "collapsed": true
   },
   "outputs": [],
   "source": [
    "moran(auck$ASI_06, lw, n=length(lw$neighbours), S0=Szero(lw), NAOK=TRUE, zero.policy=TRUE)"
   ]
  },
  {
   "cell_type": "code",
   "execution_count": null,
   "metadata": {
    "collapsed": true
   },
   "outputs": [],
   "source": [
    "moran.test(auck$ASI_06, lw, randomisation=FALSE, zero.policy=TRUE)"
   ]
  },
  {
   "cell_type": "code",
   "execution_count": null,
   "metadata": {
    "collapsed": true
   },
   "outputs": [],
   "source": [
    "mmc <- moran.mc(auck$ASI_06, lw, nsim=999, zero.policy=TRUE)"
   ]
  },
  {
   "cell_type": "code",
   "execution_count": null,
   "metadata": {
    "collapsed": true
   },
   "outputs": [],
   "source": [
    "hist(mmc$res, main=\"Histogram of results from permutation\", xlab=\"Moran's index\")\n",
    "abline(v=mmc$statistic, col='red', lty=2)"
   ]
  },
  {
   "cell_type": "markdown",
   "metadata": {},
   "source": [
    "# Univariate Local Moran’s I"
   ]
  },
  {
   "cell_type": "code",
   "execution_count": null,
   "metadata": {
    "collapsed": true
   },
   "outputs": [],
   "source": [
    "# We use the localmoran function instead of moran\n",
    "locm <- localmoran(auck$PC_ASIAN, lw)\n",
    "summary(locm)"
   ]
  },
  {
   "cell_type": "code",
   "execution_count": null,
   "metadata": {
    "collapsed": true
   },
   "outputs": [],
   "source": [
    "auck$sLPC_ASIAN <- scale(auck$PC_ASIAN) \n",
    "\n",
    "auck$lag_LPC_ASIAN <- lag.listw(lw, auck$sLPC_ASIAN,zero.policy=TRUE)\n",
    "\n",
    "plot(x = auck$sLPC_ASIAN, y = auck$lag_LPC_ASIAN, main = \"Local Moran Scatterplot PC_ASIAN\")\n",
    "abline(h = 0, v = 0)\n",
    "abline(lm(auck$lag_LPC_ASIAN ~ auck$sLPC_ASIAN), lty = 2, lwd = 1, col = \"red\")\n",
    "\n",
    "#Note that the slope of the regression line is nearly the same as Moran's I\n",
    "slope <- lm(auck$lag_LPC_ASIAN ~ auck$sLPC_ASIAN)\n",
    "coefficients(slope)[2]\n"
   ]
  },
  {
   "cell_type": "code",
   "execution_count": null,
   "metadata": {
    "collapsed": true
   },
   "outputs": [],
   "source": [
    "sig <- 0.001\n",
    "# identify the moran plot quadrant for each observation to make the cluster map\n",
    "auck$QUAD_SIG <- NA\n",
    "auck$QUAD_SIG[(auck$sLPC_ASIAN >= 0 & auck$lag_LPC_ASIAN >= 0) & (locm[, 5] <= sig)] <- 1\n",
    "auck$QUAD_SIG[(auck$sLPC_ASIAN <= 0 & auck$lag_LPC_ASIAN <= 0) & (locm[, 5] <= sig)] <- 2\n",
    "auck$QUAD_SIG[(auck$sLPC_ASIAN >= 0 & auck$lag_LPC_ASIAN <= 0) & (locm[, 5] <= sig)] <- 3\n",
    "auck$QUAD_SIG[(auck$sLPC_ASIAN <= 0 & auck$lag_LPC_ASIAN >= 0) & (locm[, 5] <= sig)] <- 4\n",
    "auck$QUAD_SIG[(locm[, 5] > sig)] <- 5  \n",
    "#5 are non significant observations"
   ]
  },
  {
   "cell_type": "code",
   "execution_count": null,
   "metadata": {
    "collapsed": true
   },
   "outputs": [],
   "source": [
    "# Set the breaks for the thematic map classes\n",
    "# We use the seq function to generation a sequence from 1-5, going up by 1.\n",
    "# you could also use \n",
    "breaks <- 1:6\n",
    "\n",
    "# Set the corresponding labels for the thematic map classes\n",
    "labels <- c(\"High-High\", \"Low-Low\", \"High-Low\", \"Low-High\", \"Not Signif.\")\n",
    "\n",
    "# Define color swatches\n",
    "pal <- c(\"red\", \"blue\", \"lightpink\", \"skyblue2\", \"white\")\n",
    "\n",
    "# Generate the map\n",
    "spplot(auck, \"QUAD_SIG\", at=breaks, col.regions=pal, main=list(label=\"Local Moran's I, LISA Cluster Map\",cex=1))"
   ]
  },
  {
   "cell_type": "code",
   "execution_count": null,
   "metadata": {
    "collapsed": true
   },
   "outputs": [],
   "source": []
  },
  {
   "cell_type": "code",
   "execution_count": null,
   "metadata": {
    "collapsed": true
   },
   "outputs": [],
   "source": []
  }
 ],
 "metadata": {
  "kernelspec": {
   "display_name": "R",
   "language": "R",
   "name": "ir"
  },
  "language_info": {
   "codemirror_mode": "r",
   "file_extension": ".r",
   "mimetype": "text/x-r-source",
   "name": "R",
   "pygments_lexer": "r",
   "version": "3.4.2"
  }
 },
 "nbformat": 4,
 "nbformat_minor": 2
}
