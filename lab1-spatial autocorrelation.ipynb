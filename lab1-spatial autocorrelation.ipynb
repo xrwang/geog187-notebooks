{
 "cells": [
  {
   "cell_type": "markdown",
   "metadata": {},
   "source": [
    "# Lab 1 : Spatial Autocorrelation"
   ]
  },
  {
   "cell_type": "code",
   "execution_count": null,
   "metadata": {},
   "outputs": [],
   "source": [
    "# We import our libraries here\n",
    "library(raster)\n",
    "library(spdep)\n",
    "library(classInt)\n",
    "library(rgdal)\n",
    "library(RColorBrewer)\n",
    "library(ggplot2)\n",
    "library(dplyr)\n",
    "library(broom)"
   ]
  },
  {
   "cell_type": "markdown",
   "metadata": {},
   "source": [
    "## Read in the data and take a look at it"
   ]
  },
  {
   "cell_type": "markdown",
   "metadata": {},
   "source": [
    "Read the shape file from the data directory"
   ]
  },
  {
   "cell_type": "code",
   "execution_count": null,
   "metadata": {},
   "outputs": [],
   "source": [
    "auck <- readOGR(\"data/akCity_CAU01_ethnic.shp\")"
   ]
  },
  {
   "cell_type": "code",
   "execution_count": null,
   "metadata": {},
   "outputs": [],
   "source": [
    "# Let's see a summary of our spatial data\n",
    "# summary(auck)"
   ]
  },
  {
   "cell_type": "code",
   "execution_count": null,
   "metadata": {},
   "outputs": [],
   "source": [
    "#names function gives you the header (first row) of your data\n",
    "names(auck)"
   ]
  },
  {
   "cell_type": "code",
   "execution_count": null,
   "metadata": {},
   "outputs": [],
   "source": [
    "#The data frame -> row and header of data, in \"tabular\" format\n",
    "#let's make df the dataframe\n",
    "# df <- data.frame(auck)\n",
    "# df"
   ]
  },
  {
   "cell_type": "code",
   "execution_count": null,
   "metadata": {},
   "outputs": [],
   "source": [
    "auck <- auck[,c(3,13)]\n",
    "auck"
   ]
  },
  {
   "cell_type": "markdown",
   "metadata": {},
   "source": [
    "## Plotting the data on a map"
   ]
  },
  {
   "cell_type": "markdown",
   "metadata": {},
   "source": [
    "### Using plot"
   ]
  },
  {
   "cell_type": "code",
   "execution_count": null,
   "metadata": {},
   "outputs": [],
   "source": [
    "# Test plot the dataset using plot\n",
    "plot(auck)"
   ]
  },
  {
   "cell_type": "markdown",
   "metadata": {},
   "source": [
    "Note that the above has no color -- we need to add breaks \n",
    "to the data and do some extra work in plot to get color. Fortunately there are two libraries in R that do a lot of out of the box geospatial work"
   ]
  },
  {
   "cell_type": "markdown",
   "metadata": {},
   "source": [
    "### Using spplot"
   ]
  },
  {
   "cell_type": "code",
   "execution_count": null,
   "metadata": {},
   "outputs": [],
   "source": [
    "# We can also use spplot for this, a geospatial package for R\n",
    "# spplot(data, column, legend settings)\n",
    "spplot(auck, \"PC_ASIAN\")"
   ]
  },
  {
   "cell_type": "markdown",
   "metadata": {},
   "source": [
    "## Equal Intervals Map"
   ]
  },
  {
   "cell_type": "code",
   "execution_count": null,
   "metadata": {},
   "outputs": [],
   "source": [
    "#First, let's make breaks in the data by using classIntervals()\n",
    "#See https://www.rdocumentation.org/packages/classInt/versions/0.1-24/topics/classIntervals for\n",
    "#Documentation of all options\n",
    "\n",
    "# 7 breaks, since we set n=7 in options below\n",
    "n <- 7\n",
    "ci <- classIntervals(auck$PC_ASIAN, n, style=\"equal\")\n",
    "breaks <- signif(ci$brks,2)"
   ]
  },
  {
   "cell_type": "code",
   "execution_count": null,
   "metadata": {},
   "outputs": [],
   "source": [
    "# Custom colors using brewer\n",
    "pal  <- brewer.pal(length(breaks), \"Blues\")"
   ]
  },
  {
   "cell_type": "code",
   "execution_count": null,
   "metadata": {},
   "outputs": [],
   "source": [
    "# Generate the map\n",
    "spplot(auck, z=\"PC_ASIAN\", at=breaks, col.regions=pal)"
   ]
  },
  {
   "cell_type": "markdown",
   "metadata": {},
   "source": [
    "## Standard Deviations Map"
   ]
  },
  {
   "cell_type": "code",
   "execution_count": null,
   "metadata": {},
   "outputs": [],
   "source": [
    "# Generate breaks\n",
    "ci <- classIntervals(auck$PC_ASIAN, n, style = \"sd\")\n",
    "breaks <- signif(ci$brks, 2)\n",
    "# Define color swatches\n",
    "pal  <- rev(brewer.pal(length(breaks), \"RdBu\"))\n",
    "\n",
    "# Generate the map\n",
    "spplot(auck, z=\"PC_ASIAN\", at=breaks, col.regions=pal)"
   ]
  },
  {
   "cell_type": "markdown",
   "metadata": {},
   "source": [
    "## Quantiles Map"
   ]
  },
  {
   "cell_type": "code",
   "execution_count": null,
   "metadata": {},
   "outputs": [],
   "source": [
    "# Generate breaks\n",
    "ci <-  classIntervals(auck$PC_ASIAN, n, style = \"quantile\")\n",
    "breaks <- signif(ci$brks, 2)\n",
    "# Define color swatches\n",
    "pal  <- brewer.pal(length(breaks), \"Reds\")\n",
    "\n",
    "# Generate the map\n",
    "spplot(auck, z=\"PC_ASIAN\", at=breaks, col.regions=pal)"
   ]
  },
  {
   "cell_type": "markdown",
   "metadata": {},
   "source": [
    "## Natural Breaks (Jenks) map"
   ]
  },
  {
   "cell_type": "code",
   "execution_count": null,
   "metadata": {},
   "outputs": [],
   "source": [
    "# Generate breaks\n",
    "ci <-  classIntervals(auck$PC_ASIAN, style = \"fisher\")\n",
    "breaks <- signif(ci$brks, 2)\n",
    "# Define color swatches\n",
    "pal  <- brewer.pal(length(breaks), \"Purples\")\n",
    "\n",
    "# Generate the map\n",
    "spplot(auck, z=\"PC_ASIAN\", at=breaks, col.regions=pal)"
   ]
  },
  {
   "cell_type": "markdown",
   "metadata": {},
   "source": [
    "# Graphing the data"
   ]
  },
  {
   "cell_type": "code",
   "execution_count": null,
   "metadata": {},
   "outputs": [],
   "source": [
    "#brks\n",
    "#s1$PC_ASIAN\n",
    "\n",
    "hist(auck$PC_ASIAN, labels=T ,col=pal)"
   ]
  },
  {
   "cell_type": "markdown",
   "metadata": {},
   "source": [
    "# Spatial autocorrelation"
   ]
  },
  {
   "cell_type": "code",
   "execution_count": null,
   "metadata": {},
   "outputs": [],
   "source": [
    "# Generate the weight matrix\n",
    "# queen = False option means at least two boundary points must be \n",
    "# within the snap distance of each other\n",
    "# with the conventional name of a ‘rook’ relationship.\n",
    "# The snap option is the same as precision threshold in geoda\n",
    "\n",
    "nb <- poly2nb(auck, row.names=auck$FIRST_CAU_, queen=FALSE, snap=1e-05)\n",
    "length(nb)\n"
   ]
  },
  {
   "cell_type": "code",
   "execution_count": null,
   "metadata": {},
   "outputs": [],
   "source": [
    "#example of the first polygon in w, numbers are the neighbors for the first polygon\n",
    "nb[1]\n",
    "auck$FIRST_CAU_[1]\n",
    "\n",
    "#make a summary of w\n",
    "summary(nb)"
   ]
  },
  {
   "cell_type": "code",
   "execution_count": null,
   "metadata": {},
   "outputs": [],
   "source": [
    "plot(auck, col='gray', border='blue', lwd=1)\n",
    "xy <- coordinates(auck)\n",
    "plot(nb, xy, col='red', lwd=1, add=TRUE)"
   ]
  },
  {
   "cell_type": "code",
   "execution_count": null,
   "metadata": {},
   "outputs": [],
   "source": [
    "#style = B indicates show the weights as binaries (0 or 1)\n",
    "# wm <- nb2mat(nb, style='B', zero.policy=TRUE)"
   ]
  },
  {
   "cell_type": "code",
   "execution_count": null,
   "metadata": {},
   "outputs": [],
   "source": [
    "#this is what the first few rows of the weights matrix looks like, \n",
    "# since we set style=B, values are either 0 or 1 \n",
    "# head(wm)"
   ]
  },
  {
   "cell_type": "markdown",
   "metadata": {},
   "source": [
    "## Moran's *I* in equation form"
   ]
  },
  {
   "cell_type": "markdown",
   "metadata": {},
   "source": [
    "$I = \\frac{n}{\\sum_{i=1}^n (y_i - \\bar{y})^2} \\frac{\\sum_{i=1}^n \\sum_{j=1}^n w_{ij}(y_i - \\bar{y})(y_j - \\bar{y})}{\\sum_{i=1}^n \\sum_{j=1}^n w_{ij}}$"
   ]
  },
  {
   "cell_type": "code",
   "execution_count": null,
   "metadata": {},
   "outputs": [],
   "source": [
    "# Let's first see what manual computation of Moran's I looks like\n",
    "\n",
    "#n is the number of observations (length of our dataset)\n",
    "# n <- length(auck)\n",
    "\n",
    "#we set y to the column of PC_ASIAN, then we get the mean.\n",
    "# y <- auck$PC_ASIAN\n",
    "# ybar <- mean(y)\n",
    "\n",
    "#find the difference between y and ybar(the mean)\n",
    "# dy <- y - ybar\n",
    "# yi <- rep(dy, each=n)\n",
    "# yj <- rep(dy)\n",
    "# yiyj <- yi * yj\n",
    "\n",
    "# pm <- matrix(yiyj, ncol=n)\n",
    "\n",
    "# pmw <- pm * wm\n",
    "\n",
    "# spmw <- sum(pmw)\n",
    "\n",
    "# smw <- sum(wm)\n",
    "# sw  <- spmw / smw\n",
    "# vr <- n / sum(dy^2)\n",
    "# MI <- vr * sw\n",
    "\n",
    "#Morans I\n",
    "# cat(\"Moran's I is\", MI)"
   ]
  },
  {
   "cell_type": "code",
   "execution_count": null,
   "metadata": {},
   "outputs": [],
   "source": [
    "# let's make a weights object so that we \n",
    "# can use it with a less manual way of computing moran's i\n",
    "lw <- nb2listw(nb, style=\"W\", zero.policy=TRUE)"
   ]
  },
  {
   "cell_type": "code",
   "execution_count": null,
   "metadata": {},
   "outputs": [],
   "source": [
    "summary(lw)"
   ]
  },
  {
   "cell_type": "code",
   "execution_count": null,
   "metadata": {},
   "outputs": [],
   "source": [
    "auck$sPC_ASIAN <- scale(auck$PC_ASIAN) \n",
    "\n",
    "auck$lag_PC_ASIAN <- lag.listw(lw, auck$sPC_ASIAN,zero.policy=TRUE)\n",
    "\n",
    "plot(x=auck$sPC_ASIAN, y=auck$lag_PC_ASIAN, main = \" Moran Scatterplot PC_ASIAN\")\n",
    "abline(h=0, v=0)\n",
    "best_fit_line <- lm(auck$lag_PC_ASIAN ~ auck$sPC_ASIAN)\n",
    "abline(best_fit_line, lty=2, lwd=1, col=\"red\")\n",
    "\n",
    "#Note that the slope of the regression line is nearly the same as Moran's I\n",
    "#coefficients(best_fit_line)[2]\n"
   ]
  },
  {
   "cell_type": "code",
   "execution_count": null,
   "metadata": {},
   "outputs": [],
   "source": [
    "moran(auck$PC_ASIAN,lw, n=length(lw$neighbours), S0=Szero(lw))"
   ]
  },
  {
   "cell_type": "code",
   "execution_count": null,
   "metadata": {},
   "outputs": [],
   "source": [
    "moran.test(auck$PC_ASIAN, lw, randomisation=FALSE)"
   ]
  },
  {
   "cell_type": "code",
   "execution_count": null,
   "metadata": {},
   "outputs": [],
   "source": [
    "mmc <- moran.mc(auck$PC_ASIAN, lw, nsim=999)"
   ]
  },
  {
   "cell_type": "code",
   "execution_count": null,
   "metadata": {},
   "outputs": [],
   "source": [
    "hist(mmc$res, main=\"Histogram of results from permutation\", xlab=\"Moran's index\")\n",
    "abline(v=mmc$statistic, col='red', lty=2)"
   ]
  },
  {
   "cell_type": "markdown",
   "metadata": {},
   "source": [
    "# Univariate Local Moran’s I"
   ]
  },
  {
   "cell_type": "code",
   "execution_count": null,
   "metadata": {},
   "outputs": [],
   "source": [
    "# We use the localmoran function instead of moran\n",
    "locm <- localmoran(auck$PC_ASIAN, lw)\n",
    "summary(locm)"
   ]
  },
  {
   "cell_type": "code",
   "execution_count": null,
   "metadata": {},
   "outputs": [],
   "source": [
    "auck$sLPC_ASIAN <- scale(auck$PC_ASIAN) \n",
    "\n",
    "auck$lag_LPC_ASIAN <- lag.listw(lw, auck$sLPC_ASIAN,zero.policy=TRUE)\n",
    "\n",
    "plot(x = auck$sLPC_ASIAN, y = auck$lag_LPC_ASIAN, main = \"Local Moran Scatterplot PC_ASIAN\")\n",
    "abline(h = 0, v = 0)\n",
    "abline(lm(auck$lag_LPC_ASIAN ~ auck$sLPC_ASIAN), lty = 2, lwd = 1, col = \"red\")\n",
    "\n",
    "#Note that the slope of the regression line is nearly the same as Moran's I\n",
    "slope <- lm(auck$lag_LPC_ASIAN ~ auck$sLPC_ASIAN)\n",
    "coefficients(slope)[2]\n"
   ]
  },
  {
   "cell_type": "code",
   "execution_count": null,
   "metadata": {},
   "outputs": [],
   "source": [
    "sig <- 0.001\n",
    "# identify the moran plot quadrant for each observation to make the cluster map\n",
    "auck$QUAD_SIG <- NA\n",
    "auck$QUAD_SIG[(auck$sLPC_ASIAN >= 0 & auck$lag_LPC_ASIAN >= 0) & (locm[, 5] <= sig)] <- 1\n",
    "auck$QUAD_SIG[(auck$sLPC_ASIAN <= 0 & auck$lag_LPC_ASIAN <= 0) & (locm[, 5] <= sig)] <- 2\n",
    "auck$QUAD_SIG[(auck$sLPC_ASIAN >= 0 & auck$lag_LPC_ASIAN <= 0) & (locm[, 5] <= sig)] <- 3\n",
    "auck$QUAD_SIG[(auck$sLPC_ASIAN <= 0 & auck$lag_LPC_ASIAN >= 0) & (locm[, 5] <= sig)] <- 4\n",
    "auck$QUAD_SIG[(locm[, 5] > sig)] <- 5  \n",
    "#5 are non significant observations"
   ]
  },
  {
   "cell_type": "code",
   "execution_count": null,
   "metadata": {},
   "outputs": [],
   "source": [
    "# Set the breaks for the thematic map classes\n",
    "# We use the seq function to generation a sequence from 1-5, going up by 1.\n",
    "# you could also use \n",
    "breaks <- 1:6\n",
    "\n",
    "# Set the corresponding labels for the thematic map classes\n",
    "labels <- c(\"High-High\", \"Low-Low\", \"High-Low\", \"Low-High\", \"Not Signif.\")\n",
    "\n",
    "# Define color swatches\n",
    "pal <- c(\"red\", \"blue\", \"lightpink\", \"skyblue2\", \"white\")\n",
    "\n",
    "# Generate the map\n",
    "spplot(auck, \"QUAD_SIG\", at=breaks, col.regions=pal, main=list(label=\"Local Moran's I, LISA Cluster Map\",cex=1))"
   ]
  },
  {
   "cell_type": "code",
   "execution_count": null,
   "metadata": {},
   "outputs": [],
   "source": []
  },
  {
   "cell_type": "code",
   "execution_count": null,
   "metadata": {},
   "outputs": [],
   "source": []
  }
 ],
 "metadata": {
  "kernelspec": {
   "display_name": "R",
   "language": "R",
   "name": "ir"
  },
  "language_info": {
   "codemirror_mode": "r",
   "file_extension": ".r",
   "mimetype": "text/x-r-source",
   "name": "R",
   "pygments_lexer": "r",
   "version": "3.4.1"
  }
 },
 "nbformat": 4,
 "nbformat_minor": 2
}
