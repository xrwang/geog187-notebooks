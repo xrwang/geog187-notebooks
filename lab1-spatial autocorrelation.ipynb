{
 "cells": [
  {
   "cell_type": "markdown",
   "metadata": {},
   "source": [
    "# Lab 1 : Spatial Autocorrelation"
   ]
  },
  {
   "cell_type": "code",
   "execution_count": null,
   "metadata": {},
   "outputs": [],
   "source": [
    "# We import our libraries here\n",
    "library(raster)\n",
    "# library(ggmap)\n",
    "# library(maps)\n",
    "library(spdep)\n",
    "library(classInt)\n",
    "library(rgdal)\n",
    "library(RColorBrewer)\n",
    "library(ggplot2)\n",
    "library(dplyr)\n",
    "library(broom)"
   ]
  },
  {
   "cell_type": "code",
   "execution_count": null,
   "metadata": {},
   "outputs": [],
   "source": [
    "# Read the shape file from the data directory. \n",
    "# You'll need to make sure you have a folder called \"data\" \n",
    "# in the same directory as your lab folder\n",
    "\n",
    "s1 <- readOGR(\"data/akCity_CAU01_ethnic.shp\")"
   ]
  },
  {
   "cell_type": "code",
   "execution_count": null,
   "metadata": {},
   "outputs": [],
   "source": [
    "#Let's see a summary of our spatial data\n",
    "\n",
    "summary(s1)\n"
   ]
  },
  {
   "cell_type": "code",
   "execution_count": null,
   "metadata": {},
   "outputs": [],
   "source": [
    "#names function gives you the header (first row) of your data\n",
    "\n",
    "names(s1)"
   ]
  },
  {
   "cell_type": "code",
   "execution_count": null,
   "metadata": {},
   "outputs": [],
   "source": [
    "#The data frame -> row and header of data, in \"tabular\" format\n",
    "#let's make df the dataframe\n",
    "df <- data.frame(s1)\n",
    "df"
   ]
  },
  {
   "cell_type": "markdown",
   "metadata": {},
   "source": [
    "## Plotting the data on a map"
   ]
  },
  {
   "cell_type": "markdown",
   "metadata": {},
   "source": [
    "### Using plot"
   ]
  },
  {
   "cell_type": "code",
   "execution_count": null,
   "metadata": {},
   "outputs": [],
   "source": [
    "# Test plot the dataset using plot\n",
    "plot(s1['PC_ASIAN'])\n"
   ]
  },
  {
   "cell_type": "markdown",
   "metadata": {},
   "source": [
    "Note that the above has no color -- we need to add breaks \n",
    "to the data and do some extra work in plot to get color. Fortunately there are two libraries in R that do a lot of out of the box geospatial work"
   ]
  },
  {
   "cell_type": "markdown",
   "metadata": {},
   "source": [
    "### Using spplot"
   ]
  },
  {
   "cell_type": "code",
   "execution_count": null,
   "metadata": {},
   "outputs": [],
   "source": [
    "# We can also use spplot for this, a geospatial package for R\n",
    "# spplot(data, column, legend settings)\n",
    "spplot(s1, z=\"PC_ASIAN\", par.settings=list(fontsize=list(text=5)))"
   ]
  },
  {
   "cell_type": "markdown",
   "metadata": {},
   "source": [
    "### Using ggplot"
   ]
  },
  {
   "cell_type": "code",
   "execution_count": null,
   "metadata": {},
   "outputs": [],
   "source": [
    "# Some people prefer ggplot, which has greater control over legends than spplot \n",
    "# and a lot more features since it's a general graphics library.\n",
    "# The only issue is that ggplot needs the data as a dataframe rather than reading it as a shapefile\n",
    "# ggplot(data = my_data_frame, mapping = aes(x = name_of_column_with_x_value, \n",
    "#      y = name_of_column_with_y_value)) + geom_point()\n",
    "#s1\n",
    "#s1@data$id = rownames(s1@data)"
   ]
  },
  {
   "cell_type": "code",
   "execution_count": null,
   "metadata": {},
   "outputs": [],
   "source": [
    "#s1df.poly <- fortify(s1, region=\"id\")\n",
    "#s1df\n",
    "#s1_df = left_join(df, s1@data, by=\"id\")\n",
    "#s1_df\n",
    "#ggplot(s1_df, aes(long,lat,group=group))\n",
    "#ggplot()\n",
    "#spplot(s1, z=\"PC_ASIAN\", par.settings=list(fontsize=list(text=10)))"
   ]
  },
  {
   "cell_type": "code",
   "execution_count": null,
   "metadata": {},
   "outputs": [],
   "source": []
  },
  {
   "cell_type": "markdown",
   "metadata": {},
   "source": [
    "## Equal Intervals Map"
   ]
  },
  {
   "cell_type": "code",
   "execution_count": null,
   "metadata": {},
   "outputs": [],
   "source": [
    "#First, let's make breaks in the data by using classIntervals()\n",
    "#See https://www.rdocumentation.org/packages/classInt/versions/0.1-24/topics/classIntervals for\n",
    "#Documentation of all options above\n",
    "\n",
    "\n",
    "# 7 breaks, since we set n=7 in options below\n",
    "brks <-  classIntervals(s1$PC_ASIAN, n = 7, style = \"equal\")$brks\n",
    "brks \n",
    "\n",
    "brks[length(brks)] <- brks[length(brks)] + 1"
   ]
  },
  {
   "cell_type": "code",
   "execution_count": null,
   "metadata": {},
   "outputs": [],
   "source": [
    "# Custom colors using brewer\n",
    "pal  <- brewer.pal(length(brks), \"Blues\")"
   ]
  },
  {
   "cell_type": "code",
   "execution_count": null,
   "metadata": {},
   "outputs": [],
   "source": [
    "\n",
    "# Generate the map\n",
    "spplot(s1, z=\"PC_ASIAN\", at = brks, col.regions=pal)"
   ]
  },
  {
   "cell_type": "markdown",
   "metadata": {},
   "source": [
    "## Standard Deviations Map"
   ]
  },
  {
   "cell_type": "code",
   "execution_count": null,
   "metadata": {},
   "outputs": [],
   "source": [
    "# Generate breaks\n",
    "brks <-  classIntervals(s1$PC_ASIAN, style = \"sd\")$brks\n",
    "brks[length(brks)] <- brks[length(brks)] + 1\n",
    "brks\n",
    "# Define color swatches\n",
    "pal  <- brewer.pal(length(brks), \"Greens\")\n",
    "\n",
    "# Generate the map\n",
    "spplot(s1, z=\"PC_ASIAN\", at = brks, col.regions=pal)"
   ]
  },
  {
   "cell_type": "markdown",
   "metadata": {},
   "source": [
    "## Quantiles Map"
   ]
  },
  {
   "cell_type": "code",
   "execution_count": null,
   "metadata": {},
   "outputs": [],
   "source": [
    "# Generate breaks\n",
    "brks <-  classIntervals(s1$PC_ASIAN, style = \"quantile\")$brks\n",
    "brks[length(brks)] <- brks[length(brks)] + 1\n",
    "brks\n",
    "# Define color swatches\n",
    "pal  <- brewer.pal(length(brks), \"Reds\")\n",
    "\n",
    "# Generate the map\n",
    "spplot(s1, z=\"PC_ASIAN\", at = brks, col.regions=pal)"
   ]
  },
  {
   "cell_type": "markdown",
   "metadata": {},
   "source": [
    "## Natural Breaks (Jenks) map"
   ]
  },
  {
   "cell_type": "code",
   "execution_count": null,
   "metadata": {},
   "outputs": [],
   "source": [
    "# Generate breaks\n",
    "brks <-  classIntervals(s1$PC_ASIAN, style = \"fisher\")$brks\n",
    "brks[length(brks)] <- brks[length(brks)] + 1\n",
    "brks\n",
    "# Define color swatches\n",
    "pal  <- brewer.pal(length(brks), \"Purples\")\n",
    "\n",
    "# Generate the map\n",
    "map <- spplot(s1, z=\"PC_ASIAN\", at = brks, col.regions=pal)\n",
    "\n",
    "#s1$PC_ASIAN"
   ]
  },
  {
   "cell_type": "code",
   "execution_count": null,
   "metadata": {},
   "outputs": [],
   "source": [
    "# Since \"map\" is assigned as the plot, calling map here displays it\n",
    "map"
   ]
  },
  {
   "cell_type": "markdown",
   "metadata": {},
   "source": [
    "# Graphing the data"
   ]
  },
  {
   "cell_type": "code",
   "execution_count": null,
   "metadata": {},
   "outputs": [],
   "source": [
    "#brks\n",
    "#s1$PC_ASIAN\n",
    "\n",
    "hist(s1$PC_ASIAN, freq = TRUE, right=TRUE, labels=TRUE,col=pal)"
   ]
  },
  {
   "cell_type": "markdown",
   "metadata": {},
   "source": [
    "# Spatial autocorrelation"
   ]
  },
  {
   "cell_type": "code",
   "execution_count": null,
   "metadata": {},
   "outputs": [],
   "source": [
    "# Generate the weight matrix\n",
    "# queen = False option means at least two boundary points must be \n",
    "# within the snap distance of each other\n",
    "# with the conventional name of a ‘rook’ relationship.\n",
    "# The snap option is the same as precision threshold in geoda\n",
    "\n",
    "nb <- poly2nb(s1, row.names=s1$FIRST_CAU_, queen=FALSE, snap=1e-05)\n",
    "length(nb)\n"
   ]
  },
  {
   "cell_type": "code",
   "execution_count": null,
   "metadata": {},
   "outputs": [],
   "source": [
    "#example of the first polygon in w, numbers are the neighbors for the first polygon\n",
    "\n",
    "nb[1]\n",
    "s1$FIRST_CAU_[1]\n",
    "\n",
    "\n",
    "#make a summary of w\n",
    "summary(nb)"
   ]
  },
  {
   "cell_type": "code",
   "execution_count": null,
   "metadata": {},
   "outputs": [],
   "source": [
    "plot(s1, col='gray', border='blue', lwd=1)\n",
    "xy <- coordinates(s1)\n",
    "plot(nb, xy, col='red', lwd=1, add=TRUE)"
   ]
  },
  {
   "cell_type": "code",
   "execution_count": null,
   "metadata": {},
   "outputs": [],
   "source": [
    "#style = B indicates show the weights as binaries (0 or 1)\n",
    "wm <- nb2mat(nb, style='B', zero.policy=TRUE)"
   ]
  },
  {
   "cell_type": "code",
   "execution_count": null,
   "metadata": {},
   "outputs": [],
   "source": [
    "#this is what the weight matrix looks like, since we set style=B.\n",
    "#it's either 0 or 1 \n",
    "wm"
   ]
  },
  {
   "cell_type": "markdown",
   "metadata": {},
   "source": [
    "## Moran's *I* in equation form"
   ]
  },
  {
   "cell_type": "markdown",
   "metadata": {},
   "source": [
    "$I = \\frac{n}{\\sum_{i=1}^n (y_i - \\bar{y})^2} \\frac{\\sum_{i=1}^n \\sum_{j=1}^n w_{ij}(y_i - \\bar{y})(y_j - \\bar{y})}{\\sum_{i=1}^n \\sum_{j=1}^n w_{ij}}$"
   ]
  },
  {
   "cell_type": "code",
   "execution_count": null,
   "metadata": {},
   "outputs": [],
   "source": [
    "# Let's first see what manual computation of Moran's I looks like\n",
    "\n",
    "#n is the number of observations (length of our dataset)\n",
    "n <- length(s1)\n",
    "\n",
    "#we set y to the column of PC_ASIAN, then we get the mean.\n",
    "y <- s1$PC_ASIAN\n",
    "ybar <- mean(y)\n",
    "\n",
    "#find the difference between y and ybar(the mean)\n",
    "dy <- y - ybar\n",
    "yi <- rep(dy, each=n)\n",
    "yj <- rep(dy)\n",
    "yiyj <- yi * yj\n",
    "\n",
    "pm <- matrix(yiyj, ncol=n)\n",
    "\n",
    "pmw <- pm * wm\n",
    "\n",
    "spmw <- sum(pmw)\n",
    "\n",
    "smw <- sum(wm)\n",
    "sw  <- spmw / smw\n",
    "vr <- n / sum(dy^2)\n",
    "MI <- vr * sw\n",
    "\n",
    "#Morans I\n",
    "cat(\"Moran's I is\", MI)"
   ]
  },
  {
   "cell_type": "code",
   "execution_count": null,
   "metadata": {},
   "outputs": [],
   "source": [
    "# let's make a weights object so that we \n",
    "# can use it with a less manual way of computing moran's i\n",
    "lw <- nb2listw(nb, style=\"W\", zero.policy=TRUE)\n",
    "lw\n",
    "length(lw)"
   ]
  },
  {
   "cell_type": "code",
   "execution_count": null,
   "metadata": {},
   "outputs": [],
   "source": [
    "summary(lw)"
   ]
  },
  {
   "cell_type": "code",
   "execution_count": null,
   "metadata": {},
   "outputs": [],
   "source": [
    "s1$sPC_ASIAN <- scale(s1$PC_ASIAN) \n",
    "\n",
    "s1$lag_PC_ASIAN <- lag.listw(lw, s1$sPC_ASIAN,zero.policy=TRUE)\n",
    "\n",
    "plot(x = s1$sPC_ASIAN, y = s1$lag_PC_ASIAN, main = \" Moran Scatterplot PC_ASIAN\")\n",
    "abline(h = 0, v = 0)\n",
    "abline(lm(s1$lag_PC_ASIAN ~ s1$sPC_ASIAN), lty = 1, lwd = 4, col = \"red\")\n",
    "\n",
    "#Note that the slope of the regression line is nearly the same as Moran's I\n",
    "slope <- lm(s1$lag_PC_ASIAN ~ s1$sPC_ASIAN)\n",
    "coefficients(slope)[2]\n"
   ]
  },
  {
   "cell_type": "code",
   "execution_count": null,
   "metadata": {},
   "outputs": [],
   "source": [
    "moran(s1$PC_ASIAN,lw, n=length(lw$neighbours), S0=Szero(lw))"
   ]
  },
  {
   "cell_type": "code",
   "execution_count": null,
   "metadata": {},
   "outputs": [],
   "source": [
    "moran.test(s1$PC_ASIAN, lw, randomisation=FALSE)"
   ]
  },
  {
   "cell_type": "code",
   "execution_count": null,
   "metadata": {},
   "outputs": [],
   "source": [
    "moran.mc(s1$PC_ASIAN, lw, nsim=299)"
   ]
  },
  {
   "cell_type": "markdown",
   "metadata": {},
   "source": [
    "# Univariate Local Moran’s I"
   ]
  },
  {
   "cell_type": "code",
   "execution_count": null,
   "metadata": {},
   "outputs": [],
   "source": [
    "# We use the localmoran function instead of moran\n",
    "locm <- localmoran(s1$PC_ASIAN,lw)\n",
    "summary(locm)"
   ]
  },
  {
   "cell_type": "code",
   "execution_count": null,
   "metadata": {},
   "outputs": [],
   "source": [
    "s1$sLPC_ASIAN <- scale(s1$PC_ASIAN) \n",
    "\n",
    "s1$lag_LPC_ASIAN <- lag.listw(lw, s1$sLPC_ASIAN,zero.policy=TRUE)\n",
    "\n",
    "plot(x = s1$sLPC_ASIAN, y = s1$lag_LPC_ASIAN, main = \"Local Moran Scatterplot PC_ASIAN\")\n",
    "abline(h = 0, v = 0)\n",
    "abline(lm(s1$lag_LPC_ASIAN ~ s1$sLPC_ASIAN), lty = 1, lwd = 4, col = \"red\")\n",
    "\n",
    "#Note that the slope of the regression line is nearly the same as Moran's I\n",
    "slope <- lm(s1$lag_LPC_ASIAN ~ s1$sLPC_ASIAN)\n",
    "coefficients(slope)[2]\n"
   ]
  },
  {
   "cell_type": "code",
   "execution_count": null,
   "metadata": {},
   "outputs": [],
   "source": [
    "# identify the moran plot quadrant for each observation to make the cluster map\n",
    "s1$QUAD_SIG <- NA\n",
    "s1@data[(s1$sLPC_ASIAN >= 0 & s1$lag_LPC_ASIAN >= 0) & (locm[, 5] <= 0.05), \"QUAD_SIG\"] <- 1\n",
    "s1@data[(s1$sLPC_ASIAN <= 0 & s1$lag_LPC_ASIAN <= 0) & (locm[, 5] <= 0.05), \"QUAD_SIG\"] <- 2\n",
    "s1@data[(s1$sLPC_ASIAN >= 0 & s1$lag_LPC_ASIAN <= 0) & (locm[, 5] <= 0.05), \"QUAD_SIG\"] <- 3\n",
    "s1@data[(s1$sLPC_ASIAN >= 0 & s1$lag_LPC_ASIAN <= 0) & (locm[, 5] <= 0.05), \"QUAD_SIG\"] <- 4\n",
    "s1@data[(s1$sLPC_ASIAN <= 0 & s1$lag_LPC_ASIAN >= 0) & (locm[, 5] <= 0.05), \"QUAD_SIG\"] <- 5  \n",
    "#5 are non significant observations"
   ]
  },
  {
   "cell_type": "code",
   "execution_count": null,
   "metadata": {},
   "outputs": [],
   "source": [
    "\n",
    "# Set the breaks for the thematic map classes\n",
    "# We use the seq function to generation a sequence from 1-5, going up by 1.\n",
    "# you could also use \n",
    "breaks <- c(1,2,3,4,5)\n",
    "\n",
    "# Set the corresponding labels for the thematic map classes\n",
    "labels <- c(\"high-High\", \"low-Low\", \"High-Low\", \"Low-High\", \"Not Signif.\")\n",
    "\n",
    "# Define color swatches\n",
    "pal  <- brewer.pal(length(brks), \"Greens\")\n",
    "\n",
    "#colors <- c(\"red\", \"blue\", \"lightpink\", \"skyblue2\", \"white\")\n",
    "\n",
    "# Generate the map\n",
    "spplot(s1, z=\"QUAD_SIG\",\n",
    "        col.regions=pal, main=list(label=\"Local Moran's I, LISA Cluster Map\",cex=1))"
   ]
  },
  {
   "cell_type": "code",
   "execution_count": null,
   "metadata": {},
   "outputs": [],
   "source": [
    "# identify the moran plot quadrant for each observation to make the P-significance cluster map\n",
    "s1$P_SIG <- 0\n",
    "s1$P_SIGB <- 0\n",
    "#locm[, 5]\n",
    "#s1$sLPC_ASIAN >= 0 \n",
    "#s1$lag_LPC_ASIAN\n",
    "#locm[,5]\n",
    "#locm\n",
    "\n",
    "s1@data['P_SIG'] <- locm[, 5]\n",
    "\n",
    "#breaks <- findInterval(s1$P_SIG, breaks)\n",
    "\n",
    "#breaks <- c(0,0.0001,0.001,0.01,0.05)\n",
    "#breaks <- classIntervals(s1$P_SIG, n=5, style=\"fixed\", fixedBreaks=c(0.0001,0.001,0.01,0.05))\n",
    "#pal  <- colorRampPalette(brewer.pal(breaks, \"Greens\"))\n",
    "#classIntervals(s1$PC_ASIAN, n = 7, style = \"equal\")$brks\n",
    "\n",
    "#spplot(s1, c('P_SIG'), cut)\n",
    "spplot(s1, z='P_SIG') \n",
    "#main=list(label=\"Local Moran's I, LISA Cluster Map\",cex=1))\n",
    "#s1@data[(s1$sLPC_ASIAN >= 0 & s1$lag_LPC_ASIAN >= 0) & (locm[, 5] <= 0.05), \"P_SIG\"] <- 1\n",
    "#s1@data[(s1$sLPC_ASIAN <= 0 & s1$lag_LPC_ASIAN <= 0) & (locm[, 5] <= 0.05), \"P_SIG\"] <- 2\n",
    "#s1@data[(s1$sLPC_ASIAN >= 0 & s1$lag_LPC_ASIAN <= 0) & (locm[, 5] <= 0.05), \"P_SIG\"] <- 3\n",
    "#s1@data[(s1$sLPC_ASIAN >= 0 & s1$lag_LPC_ASIAN <= 0) & (locm[, 5] <= 0.05), \"P_SIG\"] <- 4\n",
    "#s1@data[(s1$sLPC_ASIAN <= 0 & s1$lag_LPC_ASIAN >= 0) & (locm[, 5] <= 0.05), \"P_SIG\"] <- 5 \n",
    "\n",
    "#s1@data"
   ]
  },
  {
   "cell_type": "code",
   "execution_count": null,
   "metadata": {},
   "outputs": [],
   "source": []
  }
 ],
 "metadata": {
  "kernelspec": {
   "display_name": "R",
   "language": "R",
   "name": "ir"
  },
  "language_info": {
   "codemirror_mode": "r",
   "file_extension": ".r",
   "mimetype": "text/x-r-source",
   "name": "R",
   "pygments_lexer": "r",
   "version": "3.4.1"
  }
 },
 "nbformat": 4,
 "nbformat_minor": 2
}
