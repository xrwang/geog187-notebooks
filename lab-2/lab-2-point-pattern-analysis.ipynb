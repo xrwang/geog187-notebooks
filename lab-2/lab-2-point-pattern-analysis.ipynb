{
 "cells": [
  {
   "cell_type": "markdown",
   "metadata": {},
   "source": [
    "## Lab 2 Point Pattern Analysis"
   ]
  },
  {
   "cell_type": "markdown",
   "metadata": {},
   "source": [
    "In this lab we will perform point pattern analysis using R. Similar to previous labs, we will use a set of libraries and then create charts as well as maps of our data."
   ]
  },
  {
   "cell_type": "markdown",
   "metadata": {},
   "source": [
    "## Loading libraries and our earthquakes data"
   ]
  },
  {
   "cell_type": "markdown",
   "metadata": {},
   "source": [
    "Let's first import our data and load up our libraries.\n",
    "\n",
    "We will use a library called **readr**.\n",
    "Our data is in the `data` directory and it is titled `earthquakes.csv`"
   ]
  },
  {
   "cell_type": "markdown",
   "metadata": {},
   "source": [
    "First, write a line of code below that imports the `readr` library.\n",
    "Remember that you can import libraries via:\n",
    "`library(name_of_library)`"
   ]
  },
  {
   "cell_type": "code",
   "execution_count": 8,
   "metadata": {
    "collapsed": true
   },
   "outputs": [],
   "source": [
    "# Line of code to import readr\n"
   ]
  },
  {
   "cell_type": "markdown",
   "metadata": {},
   "source": [
    "Next, write a line of code below to read in the earthquake data.\n",
    "\n",
    "Remember that in R, we name the variable on the left hand side and then use a function to read in the data.\n",
    "\n",
    "The structure is like this:\n",
    "\n",
    "    variable_name <- read_csv('file location')\n",
    "\n",
    "In our case, the file is `earthquakes.csv` and the file location is `data/earthquakes.csv`"
   ]
  },
  {
   "cell_type": "code",
   "execution_count": 11,
   "metadata": {},
   "outputs": [
    {
     "name": "stderr",
     "output_type": "stream",
     "text": [
      "Parsed with column specification:\n",
      "cols(\n",
      "  CUSP_ID = col_integer(),\n",
      "  NZMGE = col_integer(),\n",
      "  NZMGN = col_integer(),\n",
      "  ELAPSED_DAYS = col_double(),\n",
      "  MAG = col_double(),\n",
      "  DEPTH = col_double(),\n",
      "  YEAR = col_integer(),\n",
      "  MONTH = col_integer(),\n",
      "  DAY = col_integer(),\n",
      "  HOUR = col_integer(),\n",
      "  MINUTE = col_integer(),\n",
      "  SECOND = col_double()\n",
      ")\n"
     ]
    }
   ],
   "source": [
    "# Line of code to make a variable called quakes and read in csv from 'data/earthquakes.csv'\n"
   ]
  },
  {
   "cell_type": "markdown",
   "metadata": {},
   "source": [
    "You should see also see a data table appear in red as part of the output. The data appear very similar to a spreadsheet. \n",
    "\n",
    "In R, data tables are known as dataframes and each column is an attribute or variable.\n",
    "The various variables that appear in the table are:\n",
    "\n",
    "    CUSP_ID a unique identifier for each earthquake or aftershock event\n",
    "    NZMGE and NZMGN are New Zealand Map Grid Easting and Northing coordinates\n",
    "    ELAPSED_DAYS is the number of days after September 3, 2010, when the big earthquake was recorded\n",
    "    MAG is the earthquake or aftershock magnitude\n",
    "    DEPTH is the estimate depth at which the earthquake or aftershock occurred\n",
    "    YEAR, MONTH, DAY, HOUR, MINUTE, SECOND provide detailed time information"
   ]
  },
  {
   "cell_type": "markdown",
   "metadata": {},
   "source": [
    "## Examining the Data"
   ]
  },
  {
   "cell_type": "markdown",
   "metadata": {},
   "source": [
    "Now, if we want to use R to do some statistics, these data are stored in a variable named quakes (in my example, you may have called it something different). \n",
    "\n",
    "I can refer to columns in the dataframe by calling them `quakes$MAG` (note the `$` sign)."
   ]
  },
  {
   "cell_type": "code",
   "execution_count": 15,
   "metadata": {},
   "outputs": [
    {
     "data": {
      "text/html": [
       "2.92069455169455"
      ],
      "text/latex": [
       "2.92069455169455"
      ],
      "text/markdown": [
       "2.92069455169455"
      ],
      "text/plain": [
       "[1] 2.920695"
      ]
     },
     "metadata": {},
     "output_type": "display_data"
    }
   ],
   "source": [
    "# Get the mean of earthquake magnitudes\n",
    "mean(quakes$MAG)"
   ]
  },
  {
   "cell_type": "code",
   "execution_count": 16,
   "metadata": {},
   "outputs": [],
   "source": [
    "# Write a line of code here to get the mean of earthquake depths (the DEPTH column)"
   ]
  },
  {
   "cell_type": "markdown",
   "metadata": {},
   "source": [
    "The boxplot function returns a helpful boxplot of our data. \n",
    "For example, a box plot of earthquake depth is made via:\n",
    "`boxplot(quakes$DEPTH)`"
   ]
  },
  {
   "cell_type": "markdown",
   "metadata": {},
   "source": [
    "Make a boxplot of earthquake magnitude below:"
   ]
  },
  {
   "cell_type": "code",
   "execution_count": 19,
   "metadata": {},
   "outputs": [],
   "source": [
    "# Line of code to make boxplot of earthquake magnitude"
   ]
  },
  {
   "cell_type": "code",
   "execution_count": 21,
   "metadata": {},
   "outputs": [],
   "source": [
    "# The hist() function accepts a column of data, similar to boxplot(). \n",
    "# Try out the hist() function here and make a histogram of earthquake magnitudes."
   ]
  },
  {
   "cell_type": "markdown",
   "metadata": {},
   "source": [
    "It gets tedious typing quakes all the time, so you can attach the dataframe\n",
    "so that the variable names are directly accessible without the quakes$\n",
    "prefix by typing\n",
    "> attach(quakes)"
   ]
  },
  {
   "cell_type": "code",
   "execution_count": 20,
   "metadata": {
    "collapsed": true
   },
   "outputs": [],
   "source": [
    "# Attach the dataframe here"
   ]
  },
  {
   "cell_type": "code",
   "execution_count": 22,
   "metadata": {},
   "outputs": [],
   "source": [
    "# Try calling the hist() function on just MAG instead of quakes$MAG here"
   ]
  },
  {
   "cell_type": "markdown",
   "metadata": {},
   "source": [
    "You can make a simple map of all the data by plotting the NZMGE\n",
    "variable as the x (i.e. horizontal axis) and NZMGN as the y axis of a\n",
    "scatterplot:\n",
    "> plot(NZMGE, NZMGN)\n",
    "\n",
    "Because R is not a GIS it doesn’t automatically know about things\n",
    "like projections, so this is a very crude map. For example, if you\n",
    "resize the plot window it independently rescales the east-west and\n",
    "north-south directions, which is not helpful for a map. To prevent it\n",
    "doing this we can specify an option to the plot command requiring\n",
    "the aspect-ratio to be fixed at 1:\n",
    "\n",
    "> plot(NZMGE, NZMGN, asp=1)"
   ]
  },
  {
   "cell_type": "markdown",
   "metadata": {},
   "source": [
    "To see if there is a relationship between earthquake\n",
    "depth and magnitude, try this:\n",
    "> plot(DEPTH, MAG)"
   ]
  },
  {
   "cell_type": "code",
   "execution_count": null,
   "metadata": {
    "collapsed": true
   },
   "outputs": [],
   "source": [
    "# Try out plotting depth and mag"
   ]
  },
  {
   "cell_type": "markdown",
   "metadata": {
    "collapsed": true
   },
   "source": [
    "and because R is a statistics package, we can easily fit and plot a\n",
    "simple regression model to the data:\n",
    "\n",
    "> regmodel <- lm(MAG ~ DEPTH)\n",
    "\n",
    "> abline(regmodel, col='red')"
   ]
  },
  {
   "cell_type": "code",
   "execution_count": null,
   "metadata": {
    "collapsed": true
   },
   "outputs": [],
   "source": []
  },
  {
   "cell_type": "markdown",
   "metadata": {},
   "source": [
    "## Point Processes in R"
   ]
  },
  {
   "cell_type": "markdown",
   "metadata": {},
   "source": [
    "The major strength of R is the wide range of packages that have been developed for performing specialized statistical analysis (like spatial analysis). For point patterns, the go-to package is `spatstat`."
   ]
  },
  {
   "cell_type": "markdown",
   "metadata": {},
   "source": [
    "To use spatstat, we have to import it similar to the library(readr) function above. \n",
    "Below, import the spatstat package"
   ]
  },
  {
   "cell_type": "code",
   "execution_count": null,
   "metadata": {
    "collapsed": true
   },
   "outputs": [],
   "source": [
    "# Line of code to import spatstat"
   ]
  },
  {
   "cell_type": "markdown",
   "metadata": {},
   "source": [
    "The user guide for **spatstat** is here: http://www.stats.uwo.ca/faculty/kulperger/S9934a/Papers/SpatStatIntro.pdf"
   ]
  },
  {
   "cell_type": "markdown",
   "metadata": {},
   "source": [
    "For our purposes, what you really need to know is that spatstat is the most powerful tool around for\n",
    "doing point pattern analysis.\n",
    "    \n",
    "Consequently you can use spatstat to generate a wide variety of point patterns using a range of point\n",
    "processes. Among these are the following R commands:\n",
    "    \n",
    "    rpoint() – generates a specified number of random uniform distributed points\n",
    "    rpoispp() – generates random points distributed according to some specified intensity pattern\n",
    "(which may be uniform)\n",
    "    rThomas() – generates clustered points via a ‘parent-child’ process\n",
    "    rSSI() – generates points that exclude one another from being with some specified distance of\n",
    "each other and many others. \n",
    "    \n",
    "    You can see the full list in the general help page for the package in the subsection entitled To simulate a random point pattern."
   ]
  }
 ],
 "metadata": {
  "kernelspec": {
   "display_name": "R",
   "language": "R",
   "name": "ir"
  },
  "language_info": {
   "codemirror_mode": "r",
   "file_extension": ".r",
   "mimetype": "text/x-r-source",
   "name": "R",
   "pygments_lexer": "r",
   "version": "3.4.2"
  }
 },
 "nbformat": 4,
 "nbformat_minor": 2
}
